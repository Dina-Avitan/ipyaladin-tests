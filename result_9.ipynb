{
 "cells": [
  {
   "cell_type": "code",
   "execution_count": 1,
   "metadata": {},
   "outputs": [],
   "source": [
    "import ipyaladin as ipyal\n",
    "import ipywidgets as widgets"
   ]
  },
  {
   "cell_type": "code",
   "execution_count": 2,
   "metadata": {
    "scrolled": false
   },
   "outputs": [
    {
     "data": {
      "application/vnd.jupyter.widget-view+json": {
       "model_id": "c1831eb8e25a4421a886b962b6bee906",
       "version_major": 2,
       "version_minor": 0
      },
      "text/plain": [
       "VBox(children=(Aladin(fov=2.0, options=['allow_full_zoomout', 'coo_frame', 'fov', 'full_screen', 'log', 'overl…"
      ]
     },
     "metadata": {},
     "output_type": "display_data"
    }
   ],
   "source": [
    "aladin = ipyal.Aladin(target= 'orion', fov=2)\n",
    "\n",
    "survey_selector = widgets.ToggleButtons(\n",
    "    options=['P/DSS2/color', 'P/2MASS/color', 'P/DSS2/red'],\n",
    "    description='Image:',\n",
    "    disabled=False,\n",
    "    tooltips=['DSS2 color', '2MASS color', 'DSS2 red'],\n",
    ")\n",
    "def on_survey_value_change(change):\n",
    "    aladin.survey = change['new']\n",
    "survey_selector.observe(on_survey_value_change, names='value')\n",
    "\n",
    "    \n",
    "survey_overlay_selector = widgets.ToggleButtons(\n",
    "    options=['P/DSS2/color', 'P/2MASS/color', 'P/DSS2/red', 'P/XMM/PN/color', 'P/GLIMPSE360'],\n",
    "    description='Overlay:',\n",
    "    disabled=False,\n",
    "    tooltips=['DSS2 color', '2MASS color', 'DSS2 red', 'P/XMM/PN/color', 'P/GLIMPSE360'],\n",
    ")\n",
    "def on_survey_overlay_value_change(change):\n",
    "    aladin.overlay_survey = change['new']\n",
    "    aladin.overlay_survey_opacity = aladin.overlay_survey_opacity+0.00000001\n",
    "    \n",
    "survey_overlay_selector.observe(on_survey_overlay_value_change, names='value')\n",
    "\n",
    "overlay_opacity = widgets.FloatSlider(\n",
    "    value=0.0,\n",
    "    min=0,\n",
    "    max=1.0,\n",
    "    step=0.05,\n",
    "    description='Opacity:',\n",
    "    disabled=False,\n",
    "    continuous_update=True,\n",
    "    orientation='horizontal',\n",
    "    readout=True,\n",
    "    readout_format='.1f',\n",
    ")\n",
    "def on_surveyoverlay_opacity_value_change(change):\n",
    "    aladin.overlay_survey_opacity = change['new']\n",
    "    \n",
    "overlay_opacity.observe(on_surveyoverlay_opacity_value_change, names='value')\n",
    "\n",
    "\n",
    "zoom_slider =  widgets.FloatSlider(\n",
    "    value=180/aladin.fov,\n",
    "    min=1,\n",
    "    max=400,\n",
    "    step=1,\n",
    "    description='Zoom:',\n",
    "    disabled=False,\n",
    "    continuous_update=True,\n",
    "    orientation='horizontal',\n",
    "    readout=False,\n",
    "    readout_format='.1f',\n",
    ")  \n",
    "def on_zoom_slider_value_change(change):\n",
    "    aladin.fov = 180/change['new']\n",
    "zoom_slider.observe(on_zoom_slider_value_change, names='value')\n",
    "\n",
    "\n",
    "widgets.VBox([aladin, survey_selector, widgets.HBox([survey_overlay_selector, overlay_opacity]), zoom_slider])"
   ]
  },
  {
   "cell_type": "code",
   "execution_count": 28,
   "metadata": {},
   "outputs": [
    {
     "data": {
      "text/plain": [
       "''"
      ]
     },
     "execution_count": 28,
     "metadata": {},
     "output_type": "execute_result"
    }
   ],
   "source": []
  },
  {
   "cell_type": "code",
   "execution_count": null,
   "metadata": {
    "collapsed": true
   },
   "outputs": [],
   "source": []
  }
 ],
 "metadata": {
  "kernelspec": {
   "display_name": "Python 3",
   "language": "python",
   "name": "python3"
  },
  "language_info": {
   "codemirror_mode": {
    "name": "ipython",
    "version": 3
   },
   "file_extension": ".py",
   "mimetype": "text/x-python",
   "name": "python",
   "nbconvert_exporter": "python",
   "pygments_lexer": "ipython3",
   "version": "3.7.7"
  }
 },
 "nbformat": 4,
 "nbformat_minor": 2
}
